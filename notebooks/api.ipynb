{
 "cells": [
  {
   "cell_type": "markdown",
   "metadata": {},
   "source": [
    "# API module"
   ]
  },
  {
   "cell_type": "markdown",
   "metadata": {},
   "source": [
    "## Importing packages"
   ]
  },
  {
   "cell_type": "code",
   "execution_count": 32,
   "metadata": {},
   "outputs": [],
   "source": [
    "import os\n",
    "import json\n",
    "from fastapi import FastAPI\n",
    "from langchain_qdrant import Qdrant\n",
    "from qdrant_client import QdrantClient\n",
    "from pydantic import BaseModel\n",
    "from langchain_huggingface import HuggingFaceEmbeddings\n",
    "from openai import OpenAI\n",
    "import warnings\n",
    "warnings.filterwarnings('ignore')"
   ]
  },
  {
   "cell_type": "code",
   "execution_count": 33,
   "metadata": {},
   "outputs": [],
   "source": [
    "with open('../ignore/secret_key.json') as f:\n",
    "    secret_key = json.load(f)['nvidia_key']"
   ]
  },
  {
   "cell_type": "code",
   "execution_count": 34,
   "metadata": {},
   "outputs": [],
   "source": [
    "# Defines the Item class that inherits from BaseModel\n",
    "class Item(BaseModel):\n",
    "    query: str"
   ]
  },
  {
   "cell_type": "code",
   "execution_count": 35,
   "metadata": {},
   "outputs": [],
   "source": [
    "# Sets the name of the model to be used to create the embeddings\n",
    "model_name = \"sentence-transformers/msmarco-bert-base-dot-v5\"\n",
    "model_kwargs = {'device': 'cpu'} # Model settings\n",
    "encode_kwargs = {'normalize_embeddings': True} # Set encoding settings\n",
    "\n",
    "# Initialize the HuggingFace embeddings class\n",
    "hf = HuggingFaceEmbeddings(model_name = model_name,\n",
    "                            model_kwargs = model_kwargs,\n",
    "                            encode_kwargs = encode_kwargs)\n"
   ]
  },
  {
   "cell_type": "code",
   "execution_count": 36,
   "metadata": {},
   "outputs": [],
   "source": [
    "# Set the use_nvidia_api variable to False\n",
    "use_nvidia_api = False\n",
    "\n",
    "# Verify if the Nvidia secret key is available\n",
    "if secret_key != \"\":\n",
    "    # Create an OpenAI instance with the base URL and API key\n",
    "    client_ai = OpenAI(base_url = \"https://integrate.api.nvidia.com/v1\", api_key = secret_key)\n",
    "\n",
    "    # Set use_nvidia_api to True\n",
    "    use_nvidia_api = True\n",
    "\n",
    "else:\n",
    "    # Print a message indicating that an LLM cannot be used\n",
    "    print(\"Unable to use an LLM.\")\n",
    "    "
   ]
  },
  {
   "cell_type": "code",
   "execution_count": 37,
   "metadata": {},
   "outputs": [],
   "source": [
    "# Create an instance to connect to the vector database\n",
    "client = QdrantClient(\"http://localhost:6333\")\n",
    "# Set the collection name\n",
    "collection_name = \"VectorDB\"\n",
    "\n",
    "# Creates an instance of Qdrant to send data to the vector database\n",
    "qdrant = Qdrant(client, collection_name, hf)"
   ]
  },
  {
   "cell_type": "markdown",
   "metadata": {},
   "source": [
    "## Create FastAPI function"
   ]
  },
  {
   "cell_type": "code",
   "execution_count": 41,
   "metadata": {},
   "outputs": [],
   "source": [
    "# Create an instance\n",
    "app = FastAPI()\n",
    "\n",
    "# Set the root route with the GET method\n",
    "@app.get(\"/\")\n",
    "async def root():\n",
    "    return {\"message\": \"RAG Project\"}\n",
    "\n",
    "# Define the /api route with the POST method\n",
    "@app.post(\"/api\")\n",
    "async def api(item: Item):\n",
    "    \n",
    "    query = item.query # Get the query from the item\n",
    "    search_result = qdrant.similarity_search(query = query, k = 10) # Perform the similarity search\n",
    "\n",
    "    # Initialize the result list, context and mapping\n",
    "    list_res = []\n",
    "    context = \"\"\n",
    "    mappings = {}\n",
    "\n",
    "    # Construct the context and the list of results\n",
    "    for i, res in enumerate(search_result):\n",
    "        context += f\"{i}\\n{res.page_content}\\n\\n\"\n",
    "        mappings[i] = res.metadata.get(\"path\")\n",
    "        list_res.append({\"id\": i, \"path\": res.metadata.get(\"path\"), \"content\": res.page_content})\n",
    "\n",
    "    # Set the system message\n",
    "    rolemsg = {\"role\": \"system\",\n",
    "               \"content\": \"Answer the user's question using documents provided in the context. The context contains documents that should contain an answer. Always reference the document ID (in square brackets, e.g. [0],[1]) of the document that was used to make a query. Use as many citations and documents as necessary to answer the question.\"}\n",
    "    \n",
    "    # Define messages \n",
    "    messages = [rolemsg, {\"role\": \"user\", \"content\": f\"Documents:\\n{context}\\n\\nQuestion: {query}\"}]\n",
    "\n",
    "    # Checks if Nvidia API is being used\n",
    "    if use_nvidia_api:\n",
    "\n",
    "        # Create LLM instance using Nvidia API\n",
    "        response = client_ai.chat.completions.create(model = \"meta/llama3-70b-instruct\",\n",
    "                                                     messages = messages,\n",
    "                                                     temperature = 0.5,\n",
    "                                                     top_p = 1,\n",
    "                                                     max_tokens = 1024,\n",
    "                                                     stream = False)\n",
    "        # Get the response from LLM\n",
    "        response = response.choices[0].message.content\n",
    "    \n",
    "    else:\n",
    "        # Print a message indicating that an LLM cannot be used\n",
    "        print(\"Unable to use an LLM.\")\n",
    "    \n",
    "    return {\"context\": list_res, \"answer\": response}\n",
    "\n"
   ]
  },
  {
   "cell_type": "markdown",
   "metadata": {},
   "source": [
    "---"
   ]
  },
  {
   "cell_type": "code",
   "execution_count": 42,
   "metadata": {},
   "outputs": [],
   "source": [
    "def test_api(item):\n",
    "    \n",
    "    query = item[\"query\"] # Get the query from the item\n",
    "    search_result = qdrant.similarity_search(query = query, k = 10) # Perform the similarity search\n",
    "\n",
    "    # Initialize the result list, context and mapping\n",
    "    list_res = []\n",
    "    context = \"\"\n",
    "    mappings = {}\n",
    "\n",
    "    # Construct the context and the list of results\n",
    "    for i, res in enumerate(search_result):\n",
    "        context += f\"{i}\\n{res.page_content}\\n\\n\"\n",
    "        mappings[i] = res.metadata.get(\"path\")\n",
    "        list_res.append({\"id\": i, \"path\": res.metadata.get(\"path\"), \"content\": res.page_content})\n",
    "\n",
    "    # Set the system message\n",
    "    rolemsg = {\"role\": \"system\",\n",
    "               \"content\": \"Answer the user's question using documents provided in the context. The context contains documents that should contain an answer. Always reference the document ID (in square brackets, e.g. [0],[1]) of the document that was used to make a query. Use as many citations and documents as necessary to answer the question.\"}\n",
    "    \n",
    "    # Define messages \n",
    "    messages = [rolemsg, {\"role\": \"user\", \"content\": f\"Documents:\\n{context}\\n\\nQuestion: {query}\"}]\n",
    "\n",
    "    # Checks if Nvidia API is being used\n",
    "    if use_nvidia_api:\n",
    "\n",
    "        # Create LLM instance using Nvidia API\n",
    "        response = client_ai.chat.completions.create(model = \"meta/llama3-70b-instruct\",\n",
    "                                                     messages = messages,\n",
    "                                                     temperature = 0.5,\n",
    "                                                     top_p = 1,\n",
    "                                                     max_tokens = 1024,\n",
    "                                                     stream = False)\n",
    "        # Get the response from LLM\n",
    "        response = response.choices[0].message.content\n",
    "    \n",
    "    else:\n",
    "        # Print a message indicating that an LLM cannot be used\n",
    "        print(\"Unable to use an LLM.\")\n",
    "    \n",
    "    return {\"context\": list_res, \"answer\": response}\n",
    "\n"
   ]
  },
  {
   "cell_type": "code",
   "execution_count": 43,
   "metadata": {},
   "outputs": [],
   "source": [
    "payload = json.dumps({\"query\": \"What is the best investment strategy for retirement?\"})\n",
    "payload = json.loads(payload)"
   ]
  },
  {
   "cell_type": "code",
   "execution_count": 44,
   "metadata": {},
   "outputs": [
    {
     "data": {
      "text/plain": [
       "{'context': [{'id': 0,\n",
       "   'path': '../data/subdirectory\\\\Mercado de Acoes.txt',\n",
       "   'content': 'Ãµes Preferenciais (PN): Geralmente nÃ£o dÃ£o direito a voto, mas tÃªm prioridade no recebimento de dividendos e no reembolso do capital em caso de liquidaÃ§Ã£o da empresa.\\nParticipantes do mercado\\nInvestidores Individuais: Pessoas fÃ\\xadsicas que compram e vendem aÃ§Ãµes para alcanÃ§ar seus objetivos financeiros.\\nInvestidores Institucionais: Entidades como fundos de pensÃ£o, fundos mÃºtuos e seguradoras que compram e vendem aÃ§Ãµes em grande escala.\\nCorretoras de Valores: Empresas que facilitam a compra e venda de aÃ§Ãµes, oferecendo plataformas de negociaÃ§Ã£o e consultoria.\\nReguladores: OrganizaÃ§Ãµes como a ComissÃ£o de Valores MobiliÃ¡rios (CVM) no Brasil, que supervisionam e regulam o mercado para proteger os investidores e manter a integridade do mercado.\\nPor que investir em aÃ§Ãµes?\\nPotencial de Retorno: Historicamente, as aÃ§Ãµes tÃªm oferecido retornos superiores a outros tipos de investimentos, como tÃ\\xadtulos e poupanÃ§a.\\nParticipaÃ§Ã£o nos Lucros: AtravÃ©s dos dividendos, os acionistas recebem uma parte dos lucros da empresa.\\nDiversificaÃ§Ã£o: Investir em aÃ§Ãµes de diferentes empresas e setores pode ajudar a diversificar o portfÃ³lio e reduzir riscos.\\nRiscos do mercado de aÃ§Ãµes\\nVolatilidade: Os preÃ§os das aÃ§Ãµ'},\n",
       "  {'id': 1,\n",
       "   'path': '../data/subdirectory\\\\Mercado de Acoes.txt',\n",
       "   'content': ' o portfÃ³lio e reduzir riscos.\\nRiscos do mercado de aÃ§Ãµes\\nVolatilidade: Os preÃ§os das aÃ§Ãµes podem flutuar significativamente em curtos perÃ\\xadodos de tempo devido a diversos fatores econÃ´micos, polÃ\\xadticos e especÃ\\xadficos da empresa.\\nRisco de Mercado: Envolve a possibilidade de perder parte ou todo o investimento devido Ã\\xa0 queda nos preÃ§os das aÃ§Ãµes.\\nRisco de Liquidez: A dificuldade de vender uma aÃ§Ã£o rapidamente sem afetar seu preÃ§o de mercado.\\nAnÃ¡lise de Investimentos\\nAnÃ¡lise Fundamentalista: Avalia a saÃºde financeira e as perspectivas de uma empresa com base em indicadores financeiros, desempenho histÃ³rico, qualidade da gestÃ£o e potencial de crescimento.\\nAnÃ¡lise TÃ©cnica: Estuda os movimentos de preÃ§os e volumes de negociaÃ§Ã£o no mercado para identificar padrÃµes e prever movimentos futuros das aÃ§Ãµes.\\nConsideraÃ§Ãµes Finais\\nInvestir no mercado de aÃ§Ãµes pode ser uma excelente forma de construir riqueza ao longo do tempo, mas Ã© importante entender os riscos e fazer uma anÃ¡lise cuidadosa antes de tomar decisÃµes de investimento. EstratÃ©gias como diversificaÃ§Ã£o, investimento de longo prazo e consulta a profissionais de finanÃ§as podem ajudar a mitigar os riscos e aumentar as chances de sucesso.'},\n",
       "  {'id': 2,\n",
       "   'path': '../data/Nasdaq Definição.pptx',\n",
       "   'content': '\\n\\nInvestimentos 1.0\\n\\nNasdaq\\nA NASDAQ (National Association of Securities Dealers Automated Quotations) é uma das maiores e mais importantes bolsas de valores dos Estados Unidos e do mundo. \\nA NASDAQ foi fundada em 1971 como a primeira bolsa de valores eletrônica do mundo. Foi criada para oferecer uma plataforma automatizada para negociação de ações, em contraste com as trocas tradicionais que eram conduzidas em um pregão físico.\\nA NASDAQ é conhecida por seu uso pioneiro de tecnologia para facilitar a negociação de ações. Desde sua fundação, tem sido uma líder em implementar sistemas eletrônicos de negociação, permitindo maior eficiência, transparência e velocidade nas transações.\\n\\n\\nNasdaq\\nA NASDAQ é famosa por abrigar muitas das maiores e mais influentes empresas de tecnologia do mundo. Empresas como Apple, Microsoft, Amazon, Google (Alphabet), Facebook (Meta) e muitas outras estão listadas na NASDAQ. Além das empresas de tecnologia, a NASDAQ também lista empresas de outros setores, incluindo saúde, finanças, consumo e industrial.\\nNASDAQ Composite: Um índice amplamente seguido que inclui todas as ações listadas na bolsa NASDAQ.\\nNASDAQ-100: Um índice que inclui as 100 maiores empresas não financeiras listadas na NASDAQ, muitas das quais são líderes globais em tecnologia e inovação.\\nA NASDAQ opera como uma rede de negociação eletrônica onde comprad'},\n",
       "  {'id': 3,\n",
       "   'path': '../data/subdirectory\\\\Nasdaq.docx',\n",
       "   'content': ' são geridos por profissionais e podem oferecer uma abordagem mais diversificada e gerida profissionalmente.\\nInvestimento Internacional:\\n\\nInvestidores Fora dos EUA: Se você está fora dos EUA, pode investir na Nasdaq através de corretoras internacionais que oferecem acesso aos mercados americanos. Verifique as opções disponíveis no seu país.\\nConsiderações Importantes\\nPesquise e Planeje: Antes de investir, faça uma pesquisa detalhada e elabore um plano de investimento que atenda aos seus objetivos financeiros.\\nRiscos: Esteja ciente dos riscos associados ao investimento em ações, especialmente no setor de tecnologia, que pode ser volátil.\\nTaxas e Impostos: Considere as taxas de corretagem e os impostos sobre investimentos internacionais, que podem variar dependendo do seu país de residência.\\nConclusão\\nInvestir na Nasdaq oferece uma oportunidade de participar no crescimento de algumas das empresas mais inovadoras do mundo. Com a abordagem correta, diversificação e uma compreensão clara dos riscos e recompensas, você pode usar o mercado de ações da Nasdaq para alcançar seus objetivos financeiros de longo prazo.'},\n",
       "  {'id': 4,\n",
       "   'path': '../data/subdirectory\\\\Mercado de Acoes.txt',\n",
       "   'content': 'O mercado de aÃ§Ãµes Ã© um ambiente onde investidores compram e vendem aÃ§Ãµes de empresas pÃºblicas. Aqui estÃ¡ um panorama do funcionamento e dos elementos principais do mercado de aÃ§Ãµes:\\n\\nO que sÃ£o aÃ§Ãµes?\\nAÃ§Ãµes representam pequenas parcelas do capital de uma empresa. Quando vocÃª compra uma aÃ§Ã£o, estÃ¡ adquirindo uma parte da empresa e se tornando um acionista. Isso lhe dÃ¡ direito a uma parcela dos lucros (dividendos) e, em alguns casos, direito a voto nas assembleias de acionistas.\\n\\nComo funciona o mercado de aÃ§Ãµes?\\nO mercado de aÃ§Ãµes opera atravÃ©s de bolsas de valores, como a Bolsa de Valores de Nova York (NYSE) ou a B3 no Brasil. Nessas bolsas, aÃ§Ãµes sÃ£o compradas e vendidas entre investidores. O preÃ§o das aÃ§Ãµes Ã© determinado pela oferta e demanda: quando mais pessoas querem comprar uma aÃ§Ã£o, o preÃ§o sobe; quando mais pessoas querem vender, o preÃ§o cai.\\n\\nTipos de aÃ§Ãµes\\nAÃ§Ãµes OrdinÃ¡rias (ON): DÃ£o direito a voto nas assembleias de acionistas e participaÃ§Ã£o nos lucros da empresa.\\nAÃ§Ãµes Preferenciais (PN): Geralmente nÃ£o dÃ£o direito a voto, mas tÃªm prioridade no recebimento de dividendos e no reemb'},\n",
       "  {'id': 5,\n",
       "   'path': '../data/subdirectory\\\\Nasdaq.docx',\n",
       "   'content': ':\\n\\nCompra Direta de Ações:\\n\\nEscolha uma Corretora: Primeiro, você precisa de uma conta em uma corretora que tenha acesso aos mercados americanos. Existem várias corretoras online que oferecem esse serviço, como TD Ameritrade, Charles Schwab, e corretoras internacionais que permitem acesso à Nasdaq.\\nSelecione as Ações: Decida em quais ações deseja investir. Pesquise empresas, estude seus desempenhos e perspectivas futuras.\\nExecute a Ordem de Compra: Use a plataforma da corretora para colocar uma ordem de compra. Você pode escolher entre ordens de mercado, que compram ao preço atual, ou ordens limitadas, que compram a um preço específico.\\nFundos de Índice (ETFs):\\n\\nETFs da Nasdaq: Existem ETFs que rastreiam o desempenho dos índices da Nasdaq, como o Invesco QQQ, que rastreia o Nasdaq-100.\\nDiversificação: Investir em ETFs oferece diversificação, pois você investe em um conjunto de ações em vez de uma única empresa.\\nAcessibilidade: ETFs são negociados como ações, o que os torna acessíveis e fáceis de comprar e vender.\\nFundos Mútuos:\\n\\nFundos de Investimento: Muitos fundos mútuos incluem ações listadas na Nasdaq em suas carteiras. Esses fundos são geridos por profissionais e podem oferecer uma abordagem mais diversificada e gerida profissionalmente.\\nInvestimento Internacional:\\n\\nInvestidores Fora'},\n",
       "  {'id': 6,\n",
       "   'path': '../data/subdirectory\\\\Nasdaq.docx',\n",
       "   'content': 'A Nasdaq é uma das maiores bolsas de valores do mundo, conhecida por sua ênfase em empresas de tecnologia. Aqui está uma explicação detalhada sobre a Nasdaq e como investir nela:\\n\\nO que é a Nasdaq?\\nA Nasdaq (National Association of Securities Dealers Automated Quotations) é uma bolsa de valores eletrônica com sede em Nova York, fundada em 1971. É a segunda maior bolsa de valores do mundo em termos de capitalização de mercado, atrás apenas da Bolsa de Valores de Nova York (NYSE). A Nasdaq é conhecida por listar muitas das maiores e mais inovadoras empresas de tecnologia, como Apple, Microsoft, Amazon, Google (Alphabet), e Facebook (Meta).\\n\\nCaracterísticas da Nasdaq\\nEletrônica: A Nasdaq foi a primeira bolsa de valores eletrônica do mundo, operando inteiramente por meio de uma rede de computadores, sem um pregão físico.\\nTecnologia e Inovação: É particularmente conhecida por abrigar empresas do setor de tecnologia, biotecnologia, e startups inovadoras.\\nÍndices: Os principais índices da Nasdaq são o Nasdaq Composite e o Nasdaq-100. O Nasdaq Composite inclui todas as ações listadas na Nasdaq, enquanto o Nasdaq-100 inclui as 100 maiores empresas não financeiras listadas na bolsa.\\nComo investir na Nasdaq?\\nInvestir na Nasdaq pode ser feito de várias maneiras:\\n\\nCompra Direta de Ações:\\n\\nEscolha uma Corretora: Primeiro, você precisa de uma conta em uma corretora que tenha acesso a'},\n",
       "  {'id': 7,\n",
       "   'path': '../data/Nasdaq Definição.pptx',\n",
       "   'content': 'as das quais são líderes globais em tecnologia e inovação.\\nA NASDAQ opera como uma rede de negociação eletrônica onde compradores e vendedores podem negociar ações através de um sistema automatizado. Isso difere das bolsas de valores tradicionais, como a Bolsa de Valores de Nova York (NYSE), que historicamente utilizaram um pregão físico para a execução de transações.\\n\\n\\n\\nNasdaq\\nPara ser listada na NASDAQ, uma empresa deve atender a certos critérios financeiros e de governança corporativa. Isso inclui requisitos mínimos de preço das ações, capitalização de mercado, volume de negociação, entre outros.\\nA NASDAQ tem um impacto significativo nos mercados financeiros globais, sendo um barômetro crucial para o desempenho das ações de tecnologia e inovação. Suas cotações e índices são observados de perto por investidores e analistas em todo o mundo.\\nEm resumo, a NASDAQ é uma bolsa de valores moderna e inovadora, conhecida por sua forte ênfase em empresas de tecnologia e por sua abordagem eletrônica à negociação de ações. Ela desempenha um papel vital na economia global, fornecendo uma plataforma para a negociação de ações de algumas das maiores e mais influentes empresas do mundo.\\n'}],\n",
       " 'answer': \"The best investment strategy for retirement is not explicitly stated in the provided documents. However, we can infer some general principles from the text.\\n\\nDocument [0] mentions that investing in the stock market can be an excellent way to build wealth over time, but it's essential to understand the risks and conduct a careful analysis before making investment decisions. It also suggests that strategies like diversification, long-term investment, and consulting with financial professionals can help mitigate risks and increase the chances of success.\\n\\nDocument [3] emphasizes the importance of research and planning before investing, especially when it comes to international investments. It also highlights the need to consider tax implications and fees associated with international investments.\\n\\nDocument [5] discusses different ways to invest in the Nasdaq, including buying stocks directly, investing in ETFs, and using mutual funds. It suggests that ETFs can offer diversification and are easily accessible, while mutual funds can provide a more diversified and professionally managed approach.\\n\\nIn the context of retirement investing, a diversified portfolio with a mix of low-risk and high-return investments, combined with a long-term perspective, may be a suitable strategy. It's essential to assess individual financial goals, risk tolerance, and time horizon before creating an investment plan. Consulting with a financial advisor or conducting thorough research can help individuals develop a tailored investment strategy for their retirement goals.\\n\\nReferences:\\n[0], [3], [5]\"}"
      ]
     },
     "execution_count": 44,
     "metadata": {},
     "output_type": "execute_result"
    }
   ],
   "source": [
    "test_api(payload)"
   ]
  },
  {
   "cell_type": "code",
   "execution_count": null,
   "metadata": {},
   "outputs": [],
   "source": []
  }
 ],
 "metadata": {
  "kernelspec": {
   "display_name": ".venv",
   "language": "python",
   "name": "python3"
  },
  "language_info": {
   "codemirror_mode": {
    "name": "ipython",
    "version": 3
   },
   "file_extension": ".py",
   "mimetype": "text/x-python",
   "name": "python",
   "nbconvert_exporter": "python",
   "pygments_lexer": "ipython3",
   "version": "3.12.7"
  }
 },
 "nbformat": 4,
 "nbformat_minor": 2
}
