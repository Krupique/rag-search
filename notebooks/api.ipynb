{
 "cells": [
  {
   "cell_type": "markdown",
   "metadata": {},
   "source": [
    "# API module"
   ]
  },
  {
   "cell_type": "markdown",
   "metadata": {},
   "source": [
    "## Importing packages"
   ]
  },
  {
   "cell_type": "code",
   "execution_count": 8,
   "metadata": {},
   "outputs": [],
   "source": [
    "import os\n",
    "import json\n",
    "from fastapi import FastAPI\n",
    "from langchain_qdrant import Qdrant\n",
    "from qdrant_client import QdrantClient\n",
    "from pydantic import BaseModel\n",
    "from langchain_huggingface import HuggingFaceEmbeddings\n",
    "from openai import OpenAI\n",
    "import warnings\n",
    "warnings.filterwarnings('ignore')"
   ]
  },
  {
   "cell_type": "code",
   "execution_count": 4,
   "metadata": {},
   "outputs": [],
   "source": [
    "with open('../ignore/secret_key.json') as f:\n",
    "    secret_key = json.load(f)['nvidia_key']"
   ]
  },
  {
   "cell_type": "code",
   "execution_count": 6,
   "metadata": {},
   "outputs": [],
   "source": [
    "# Defines the Item class that inherits from BaseModel\n",
    "class Item(BaseModel):\n",
    "    query: str"
   ]
  },
  {
   "cell_type": "code",
   "execution_count": 7,
   "metadata": {},
   "outputs": [],
   "source": [
    "# Sets the name of the model to be used to create the embeddings\n",
    "model_name = \"sentence-transformers/msmarco-bert-base-dot-v5\"\n",
    "model_kwargs = {'device': 'cpu'} # Model settings\n",
    "encode_kwargs = {'normalize_embeddings': True} # Set encoding settings\n",
    "\n",
    "# Initialize the HuggingFace embeddings class\n",
    "hf = HuggingFaceEmbeddings(model_name = model_name,\n",
    "                            model_kwargs = model_kwargs,\n",
    "                            encode_kwargs = encode_kwargs)\n"
   ]
  },
  {
   "cell_type": "code",
   "execution_count": 10,
   "metadata": {},
   "outputs": [],
   "source": [
    "# Set the use_nvidia_api variable to False\n",
    "use_nvidia_api = False\n",
    "\n",
    "# Verify if the Nvidia secret key is available\n",
    "if secret_key != \"\":\n",
    "    # Create an OpenAI instance with the base URL and API key\n",
    "    client_ai = OpenAI(base_url = \"https://integrate.api.nvidia.com/v1\", api_key = secret_key)\n",
    "\n",
    "    # Set use_nvidia_api to True\n",
    "    use_nvidia_api = True\n",
    "\n",
    "else:\n",
    "    # Print a message indicating that an LLM cannot be used\n",
    "    print(\"Unable to use an LLM.\")\n",
    "    "
   ]
  },
  {
   "cell_type": "code",
   "execution_count": 11,
   "metadata": {},
   "outputs": [],
   "source": [
    "# Create an instance to connect to the vector database\n",
    "client = QdrantClient(\"http://localhost:6333\")\n",
    "# Set the collection name\n",
    "collection_name = \"VectorDB\"\n",
    "\n",
    "# Creates an instance of Qdrant to send data to the vector database\n",
    "qdrant = Qdrant(client, collection_name, hf)"
   ]
  },
  {
   "cell_type": "markdown",
   "metadata": {},
   "source": [
    "## Create FastAPI function"
   ]
  },
  {
   "cell_type": "code",
   "execution_count": 13,
   "metadata": {},
   "outputs": [],
   "source": [
    "# Create an instance\n",
    "app = FastAPI()\n",
    "\n",
    "# Set the root route with the GET method\n",
    "@app.get(\"/\")\n",
    "async def root():\n",
    "    return {\"message\": \"RAG Project\"}\n",
    "\n",
    "# Define the /dsa_api route with the POST method\n",
    "@app.post(\"/dsa_api\")\n",
    "async def dsa_api(item: Item):\n",
    "    \n",
    "    query = item.query # Get the query from the item\n",
    "    search_result = qdrant.similarity_search(query = query, k = 10) # Perform the similarity search\n",
    "\n",
    "    # Initialize the result list, context and mapping\n",
    "    list_res = []\n",
    "    context = \"\"\n",
    "    mappings = {}\n",
    "\n",
    "    # Construct the context and the list of results\n",
    "    for i, res in enumerate(search_result):\n",
    "        context += f\"{i}\\n{res.page_content}\\n\\n\"\n",
    "        mappings[i] = res.metadata.get(\"path\")\n",
    "        list_res.append({\"id\": i, \"path\": res.metadata.get(\"path\"), \"content\": res.page_content})\n",
    "\n",
    "    # Set the system message\n",
    "    rolemsg = {\"role\": \"system\",\n",
    "               \"content\": \"Answer the user's question using documents provided in the context. The context contains documents that should contain an answer. Always reference the document ID (in square brackets, e.g. [0],[1]) of the document that was used to make a query. Use as many citations and documents as necessary to answer the question.\"}\n",
    "    \n",
    "    # Define messages \n",
    "    messages = [rolemsg, {\"role\": \"user\", \"content\": f\"Documents:\\n{context}\\n\\nQuestion: {query}\"}]\n",
    "\n",
    "    # Checks if Nvidia API is being used\n",
    "    if secret_key:\n",
    "\n",
    "        # Create LLM instance using Nvidia API\n",
    "        answer = client_ai.chat.completions.create(model = \"meta/llama3-70b-instruct\",\n",
    "                                                     messages = messages,\n",
    "                                                     temperature = 0.5,\n",
    "                                                     top_p = 1,\n",
    "                                                     max_tokens = 1024,\n",
    "                                                     stream = False)\n",
    "        # Get the response from LLM\n",
    "        response = response.choices[0].message.content\n",
    "    \n",
    "    else:\n",
    "        # Print a message indicating that an LLM cannot be used\n",
    "        print(\"Unable to use an LLM.\")\n",
    "    \n",
    "    return {\"context\": list_res, \"answer\": response}\n",
    "\n"
   ]
  },
  {
   "cell_type": "code",
   "execution_count": null,
   "metadata": {},
   "outputs": [],
   "source": []
  }
 ],
 "metadata": {
  "kernelspec": {
   "display_name": ".venv",
   "language": "python",
   "name": "python3"
  },
  "language_info": {
   "codemirror_mode": {
    "name": "ipython",
    "version": 3
   },
   "file_extension": ".py",
   "mimetype": "text/x-python",
   "name": "python",
   "nbconvert_exporter": "python",
   "pygments_lexer": "ipython3",
   "version": "3.12.7"
  }
 },
 "nbformat": 4,
 "nbformat_minor": 2
}
