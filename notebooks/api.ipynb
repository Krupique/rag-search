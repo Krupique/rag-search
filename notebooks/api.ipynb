{
 "cells": [
  {
   "cell_type": "markdown",
   "metadata": {},
   "source": [
    "# API module"
   ]
  },
  {
   "cell_type": "markdown",
   "metadata": {},
   "source": [
    "## Importing packages"
   ]
  },
  {
   "cell_type": "code",
   "execution_count": 8,
   "metadata": {},
   "outputs": [],
   "source": [
    "import os\n",
    "import json\n",
    "from fastapi import FastAPI\n",
    "from langchain_qdrant import Qdrant\n",
    "from qdrant_client import QdrantClient\n",
    "from pydantic import BaseModel\n",
    "from langchain_huggingface import HuggingFaceEmbeddings\n",
    "from openai import OpenAI\n",
    "import warnings\n",
    "warnings.filterwarnings('ignore')"
   ]
  },
  {
   "cell_type": "code",
   "execution_count": 4,
   "metadata": {},
   "outputs": [],
   "source": [
    "with open('../ignore/secret_key.json') as f:\n",
    "    secret_key = json.load(f)['nvidia_key']"
   ]
  },
  {
   "cell_type": "code",
   "execution_count": 6,
   "metadata": {},
   "outputs": [],
   "source": [
    "# Defines the Item class that inherits from BaseModel\n",
    "class Item(BaseModel):\n",
    "    query: str"
   ]
  },
  {
   "cell_type": "code",
   "execution_count": 7,
   "metadata": {},
   "outputs": [],
   "source": [
    "# Sets the name of the model to be used to create the embeddings\n",
    "model_name = \"sentence-transformers/msmarco-bert-base-dot-v5\"\n",
    "model_kwargs = {'device': 'cpu'} # Model settings\n",
    "encode_kwargs = {'normalize_embeddings': True} # Set encoding settings\n",
    "\n",
    "# Initialize the HuggingFace embeddings class\n",
    "hf = HuggingFaceEmbeddings(model_name = model_name,\n",
    "                            model_kwargs = model_kwargs,\n",
    "                            encode_kwargs = encode_kwargs)\n"
   ]
  },
  {
   "cell_type": "code",
   "execution_count": 10,
   "metadata": {},
   "outputs": [],
   "source": [
    "# Set the use_nvidia_api variable to False\n",
    "use_nvidia_api = False\n",
    "\n",
    "# Verify if the Nvidia secret key is available\n",
    "if secret_key != \"\":\n",
    "    # Create an OpenAI instance with the base URL and API key\n",
    "    client_ai = OpenAI(base_url = \"https://integrate.api.nvidia.com/v1\", api_key = secret_key)\n",
    "\n",
    "    # Set use_nvidia_api to True\n",
    "    use_nvidia_api = True\n",
    "\n",
    "else:\n",
    "    # Print a message indicating that an LLM cannot be used\n",
    "    print(\"Unable to use an LLM.\")\n",
    "    "
   ]
  },
  {
   "cell_type": "code",
   "execution_count": null,
   "metadata": {},
   "outputs": [],
   "source": []
  }
 ],
 "metadata": {
  "kernelspec": {
   "display_name": ".venv",
   "language": "python",
   "name": "python3"
  },
  "language_info": {
   "codemirror_mode": {
    "name": "ipython",
    "version": 3
   },
   "file_extension": ".py",
   "mimetype": "text/x-python",
   "name": "python",
   "nbconvert_exporter": "python",
   "pygments_lexer": "ipython3",
   "version": "3.12.7"
  }
 },
 "nbformat": 4,
 "nbformat_minor": 2
}
