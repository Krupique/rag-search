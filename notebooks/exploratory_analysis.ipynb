{
 "cells": [
  {
   "cell_type": "markdown",
   "metadata": {},
   "source": [
    "# rag-search\n"
   ]
  },
  {
   "cell_type": "markdown",
   "metadata": {},
   "source": [
    "## Import packages"
   ]
  },
  {
   "cell_type": "code",
   "execution_count": 1,
   "metadata": {},
   "outputs": [],
   "source": [
    "import docx\n",
    "import PyPDF2\n",
    "from pptx import Presentation\n",
    "from os import listdir\n",
    "from os.path import isfile, join, isdir\n",
    "from langchain_text_splitters import TokenTextSplitter\n",
    "from langchain_huggingface import HuggingFaceEmbeddings\n",
    "from qdrant_client import QdrantClient\n",
    "from qdrant_client.models import Distance, VectorParams\n",
    "from langchain_qdrant import Qdrant"
   ]
  },
  {
   "cell_type": "code",
   "execution_count": 2,
   "metadata": {},
   "outputs": [],
   "source": [
    "def list_files(dir):\n",
    "    # Initialize a empty list to store the file path\n",
    "    arquivo_list = []\n",
    "    \n",
    "    # Iterate all files and directories on specif directory\n",
    "    for f in listdir(dir):\n",
    "        \n",
    "        # If it's a file, add to the list\n",
    "        if isfile(join(dir, f)):\n",
    "            arquivo_list.append(join(dir, f))\n",
    "        \n",
    "        # If it is a directory, call the function recursively and add the results to the list\n",
    "        elif isdir(join(dir, f)):\n",
    "            arquivo_list += list_files(join(dir, f))\n",
    "    \n",
    "    # Return the list of files\n",
    "    return arquivo_list"
   ]
  },
  {
   "cell_type": "code",
   "execution_count": 5,
   "metadata": {},
   "outputs": [],
   "source": [
    "\n",
    "# Define the function that loads the text from a Word file \n",
    "def load_docx_text(arquivoname):\n",
    "    \n",
    "    # Open the Word file\n",
    "    doc = docx.Document(arquivoname)\n",
    "    \n",
    "    # Extract the text from each paragraph and add it to the list\n",
    "    fullText = [para.text for para in doc.paragraphs]\n",
    "    \n",
    "    \n",
    "    # Join all texts into a single string separated by line breaks\n",
    "    return '\\n'.join(fullText)\n"
   ]
  },
  {
   "cell_type": "code",
   "execution_count": 4,
   "metadata": {},
   "outputs": [],
   "source": [
    "# Define the function that load the text from a PowerPoint file\n",
    "def load_pptx_text(arquivoname):\n",
    "    \n",
    "    # Open the PowerPoint file\n",
    "    prs = Presentation(arquivoname)\n",
    "    \n",
    "    # Initialize a empty list to store the texts\n",
    "    fullText = []\n",
    "    \n",
    "    # Iterate all slides\n",
    "    for slide in prs.slides:\n",
    "        \n",
    "        # Iterate all shapes on slides\n",
    "        for shape in slide.shapes:\n",
    "            \n",
    "            # If the shape has the \"text\" attributes, add it to the list \n",
    "            if hasattr(shape, \"text\"):\n",
    "                fullText.append(shape.text)\n",
    "    \n",
    "    # Join all texts into a single string separated by line breaks\n",
    "    return '\\n'.join(fullText)"
   ]
  },
  {
   "cell_type": "code",
   "execution_count": null,
   "metadata": {},
   "outputs": [],
   "source": []
  }
 ],
 "metadata": {
  "kernelspec": {
   "display_name": ".venv",
   "language": "python",
   "name": "python3"
  },
  "language_info": {
   "codemirror_mode": {
    "name": "ipython",
    "version": 3
   },
   "file_extension": ".py",
   "mimetype": "text/x-python",
   "name": "python",
   "nbconvert_exporter": "python",
   "pygments_lexer": "ipython3",
   "version": "3.12.7"
  }
 },
 "nbformat": 4,
 "nbformat_minor": 2
}
